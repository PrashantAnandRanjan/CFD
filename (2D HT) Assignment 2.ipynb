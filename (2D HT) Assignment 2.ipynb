{
 "cells": [
  {
   "cell_type": "code",
   "execution_count": 1,
   "id": "fd1be552",
   "metadata": {},
   "outputs": [
    {
     "name": "stdout",
     "output_type": "stream",
     "text": [
      "0.0015999999999999999 0.0015999999999999999\n",
      "[[48 48 48 48 48 47 46 45 43 40 34]\n",
      " [48 48 48 48 48 47 46 45 43 40 34]\n",
      " [48 48 48 48 48 47 46 45 43 40 34]\n",
      " [48 48 48 48 48 47 46 45 43 40 34]\n",
      " [48 48 48 48 48 47 46 45 43 40 34]\n",
      " [47 47 47 47 47 46 45 44 43 40 34]\n",
      " [46 46 46 46 46 45 44 43 42 40 34]\n",
      " [45 45 45 45 45 44 43 42 41 39 33]\n",
      " [43 43 43 43 43 42 42 41 40 39 33]\n",
      " [39 39 39 39 39 39 39 39 39 39 33]\n",
      " [34 34 34 34 34 34 34 34 34 34 30]]\n"
     ]
    },
    {
     "name": "stderr",
     "output_type": "stream",
     "text": [
      "C:\\Users\\WARMAC~1\\AppData\\Local\\Temp/ipykernel_3300/218202425.py:32: UserWarning: The following kwargs were not used by contour: 'showtext'\n",
      "  cp = ax.contourf(X, Y, P, T0, showtext = 'on')\n"
     ]
    },
    {
     "data": {
      "text/plain": [
       "<Figure size 800x400 with 0 Axes>"
      ]
     },
     "metadata": {},
     "output_type": "display_data"
    },
    {
     "data": {
      "image/png": "[encoded data removed]",
      "text/plain": [
       "<Figure size 432x288 with 2 Axes>"
      ]
     },
     "metadata": {
      "needs_background": "light"
     },
     "output_type": "display_data"
    },
    {
     "data": {
      "text/plain": [
       "<Figure size 800x400 with 0 Axes>"
      ]
     },
     "metadata": {},
     "output_type": "display_data"
    },
    {
     "data": {
      "image/png": "[encoded data removed]",
      "text/plain": [
       "<Figure size 432x288 with 2 Axes>"
      ]
     },
     "metadata": {
      "needs_background": "light"
     },
     "output_type": "display_data"
    }
   ],
   "source": [
    "import numpy as np\n",
    "import matplotlib.pyplot as plt\n",
    "%matplotlib inline\n",
    "\n",
    "##################################################\n",
    "def thomas(l,d,u,b,n):\n",
    "    g = np.zeros(n)\n",
    "    h = np.zeros(n)\n",
    "    sol = np.zeros(n)\n",
    "    g[0] = d[0]\n",
    "    h[0] = b[0]\n",
    "    \n",
    "    for i in range(1,n):\n",
    "        g[i] = d[i] - l[i] * u[i-1] / g[i-1]\n",
    "        h[i] = b[i] - l[i] * h[i-1] / g[i-1]\n",
    "    \n",
    "    sol[n-1] = h[n-1] / g[n-1]\n",
    "    i = n-2\n",
    "    while i>=0:\n",
    "        sol[i] = (h[i] - u[i] * sol[i+1]) / g[i]\n",
    "        i-=1\n",
    "    return sol\n",
    "####################################################\n",
    "#.....Plot\n",
    "def plot(P,n):\n",
    "    x = np.linspace(4, 8, n)\n",
    "    y = np.linspace(4, 8, n)\n",
    "\n",
    "    plt.figure(figsize = (8, 4), dpi = 100)\n",
    "    X, Y = np.meshgrid(x,y)\n",
    "    fig, ax = plt.subplots(1,1)\n",
    "    cp = ax.contourf(X, Y, P, T0, showtext = 'on')\n",
    "    fig.colorbar(cp)\n",
    "    plt.show()\n",
    "################################################    \n",
    "\n",
    "a=1.6*10**(-5)\n",
    "k=61  \n",
    "xm=4*10**(-2)\n",
    "ym=4*10^(-2)\n",
    "x0=0 \n",
    "y0=0\n",
    "T0=100\n",
    "Tinf=25\n",
    "h=400\n",
    "tmax=60\n",
    "nx=10\n",
    "ny=10\n",
    "dx=1/nx\n",
    "dy=1/ny\n",
    "dt=1\n",
    "rx = a*dt/(dx**2)\n",
    "ry = a*dt/(dy**2)\n",
    "\n",
    "Told = np.array([[T0]*(nx+1)]*(nx+1))\n",
    "Tnew = Told.copy()\n",
    "\n",
    "l = np.array([0.0]*(nx+1))\n",
    "d = l.copy()\n",
    "u = l.copy()\n",
    "b = l.copy()\n",
    "print(rx,ry)\n",
    "for t in range(tmax):\n",
    "    l[0] = 0        # a\n",
    "    d[0] = -1       # b\n",
    "    u[0] = 1        # c\n",
    "    b[0] = 0        # d\n",
    "    l[nx] = -k/(dx*h)\n",
    "    d[nx] = (k/(dx*h) + 1)\n",
    "    u[nx] = 0\n",
    "    b[nx] = Tinf\n",
    "    for j in range(1,nx):\n",
    "        for i in range(1,ny):\n",
    "            l[i] = -rx/2\n",
    "            d[i] = 1 + rx\n",
    "            u[i] = -rx/2 \n",
    "            b[i] = Told[i][j] + (ry/2) * (Told[i][j+1] - 2*Told[i][j] + Told[i][j-1])\n",
    "        Tnew[j,:] = thomas(l,d,u,b,nx+1)\n",
    "    Tnew[0,:] = Tnew[1,:]\n",
    "                    \n",
    "    Tnew[ny,:] = (np.array([h*Tinf]*(nx+1)) + k/dy * Tnew[ny-1,:]) / (k/dy + h)\n",
    "    #print(Tnew)\n",
    "    Told = Tnew.copy()\n",
    "    \n",
    "    l[0] = 0\n",
    "    d[0] = -1\n",
    "    u[0] = 1\n",
    "    b[0] = 0\n",
    "    l[nx] = -k/(dx*h)\n",
    "    d[nx] = (k/(dx*h) + 1)\n",
    "    u[nx] = 0\n",
    "    b[nx] = Tinf\n",
    "    for j in range(1,nx):\n",
    "        for i in range(1,ny):\n",
    "            l[i] = -rx/2\n",
    "            d[i] = 1 + rx\n",
    "            u[i] = -rx/2 \n",
    "            b[i] = Told[i][j] + (ry/2) * (Told[i+1][j] - 2*Told[i][j] + Told[i-1][j])\n",
    "        Tnew[:,j] = thomas(l,d,u,b,nx+1)\n",
    "    Tnew[:,0] = Tnew[:,1]\n",
    "    Tnew[:,ny] = (np.array([h*Tinf]*(nx+1)) + k/dy * Tnew[:,ny-1]) / (k/dy + h)\n",
    "\n",
    "print(Tnew)\n",
    "plot(Told,ny+1)\n",
    "plot(Tnew,ny+1)"
   ]
  },
  {
   "cell_type": "code",
   "execution_count": null,
   "id": "4a06d2a9",
   "metadata": {},
   "outputs": [],
   "source": []
  }
 ],
 "metadata": {
  "kernelspec": {
   "display_name": "Python 3 (ipykernel)",
   "language": "python",
   "name": "python3"
  },
  "language_info": {
   "codemirror_mode": {
    "name": "ipython",
    "version": 3
   },
   "file_extension": ".py",
   "mimetype": "text/x-python",
   "name": "python",
   "nbconvert_exporter": "python",
   "pygments_lexer": "ipython3",
   "version": "3.8.12"
  }
 },
 "nbformat": 4,
 "nbformat_minor": 5
}
