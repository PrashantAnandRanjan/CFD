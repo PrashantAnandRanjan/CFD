{
 "cells": [
  {
   "cell_type": "code",
   "execution_count": null,
   "id": "14ced942",
   "metadata": {},
   "outputs": [],
   "source": [
    "import numpy as np\n",
    "\n",
    "n = 3\n",
    "flag = 0\n",
    "x = np.zeros(n)\n",
    "A = np.array([[12.0, 1.0, 7.0], [1.0, 12.0, 3.0], [7.0, 3.0, 12.0]])\n",
    "b = np.array([[27.0, -24.0, 3.0]])\n",
    "e0 = 0.0009\n"
   ]
  }
 ],
 "metadata": {
  "kernelspec": {
   "display_name": "Python 3",
   "language": "python",
   "name": "python3"
  },
  "language_info": {
   "codemirror_mode": {
    "name": "ipython",
    "version": 3
   },
   "file_extension": ".py",
   "mimetype": "text/x-python",
   "name": "python",
   "nbconvert_exporter": "python",
   "pygments_lexer": "ipython3",
   "version": "3.8.8"
  }
 },
 "nbformat": 4,
 "nbformat_minor": 5
}
