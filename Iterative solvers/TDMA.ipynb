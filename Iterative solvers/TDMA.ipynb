{
 "cells": [
  {
   "cell_type": "code",
   "execution_count": 3,
   "id": "60609304",
   "metadata": {},
   "outputs": [
    {
     "name": "stdout",
     "output_type": "stream",
     "text": [
      "N 4\n",
      "C0 -0.3846153846153846\n",
      "d0 92.3076923076923\n",
      "c and d -0.45138888888888884 41.666666666666664\n",
      "c and d -0.46541693600517126 19.392372333548803\n",
      "c and d -0.0 79.35618678456785\n",
      "dN and un 79.35618678456785 0\n",
      "Un 79.35618678456785\n",
      "Un1 56.32608563987644\n",
      "Un1 67.0916358791109\n",
      "Un1 118.11216764581188\n"
     ]
    },
    {
     "data": {
      "text/plain": [
       "[118.11216764581188, 67.0916358791109, 56.32608563987644, 79.35618678456785]"
      ]
     },
     "execution_count": 3,
     "metadata": {},
     "output_type": "execute_result"
    }
   ],
   "source": [
    "#.......................FUNCTION\n",
    "def TDMA(a,b,c,d):\n",
    "    n = len(a)\n",
    "    print('N',n)\n",
    "    c[0] = c[0]/b[0]\n",
    "    print('C0', c[0])\n",
    "    d[0] = d[0]/b[0]\n",
    "    print('d0', d[0])\n",
    "    \n",
    "    for i in range(1,n):\n",
    "        c[i] = c[i] / (b[i] - a[i] * c[i-1])\n",
    "        d[i] = (d[i] - a[i]*d[i-1]) / (b[i] - a[i] * c[i-1])\n",
    "        print('c and d', c[i],d[i])\n",
    "    #....Back Substitution\n",
    "    u = [0]*n\n",
    "    print('dN and un',d[n-1],u[n-1])\n",
    "    u[n-1] = d[n-1]\n",
    "    print('Un', u[n-1])\n",
    "    i = n-2\n",
    "    while i >= 0:\n",
    "        u[i] = d[i] - u[i+1] * c[i]\n",
    "        print('Un1', u[i])\n",
    "        i-=1\n",
    "    \n",
    "    return u\n",
    "#..........................MAIN CODE\n",
    "a = [0,1,1,1]\n",
    "b = [-2.6,-2.6,-2.6,-2.6]\n",
    "c = [1,1,1,0]\n",
    "d = [-240,0,0,-150]\n",
    "\n",
    "u = TDMA(a,b,c,d)\n",
    "u\n"
   ]
  },
  {
   "cell_type": "code",
   "execution_count": null,
   "id": "8c3d77f9",
   "metadata": {},
   "outputs": [],
   "source": []
  }
 ],
 "metadata": {
  "kernelspec": {
   "display_name": "Python 3 (ipykernel)",
   "language": "python",
   "name": "python3"
  },
  "language_info": {
   "codemirror_mode": {
    "name": "ipython",
    "version": 3
   },
   "file_extension": ".py",
   "mimetype": "text/x-python",
   "name": "python",
   "nbconvert_exporter": "python",
   "pygments_lexer": "ipython3",
   "version": "3.8.12"
  }
 },
 "nbformat": 4,
 "nbformat_minor": 5
}
