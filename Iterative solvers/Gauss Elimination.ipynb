{
 "cells": [
  {
   "cell_type": "code",
   "execution_count": 1,
   "id": "6c7612fa",
   "metadata": {},
   "outputs": [],
   "source": [
    "import numpy as np\n",
    "import matplotlib.pyplot as plt\n",
    "%matplotlib inline"
   ]
  },
  {
   "cell_type": "code",
   "execution_count": 8,
   "id": "253de689",
   "metadata": {
    "scrolled": true
   },
   "outputs": [
    {
     "name": "stdout",
     "output_type": "stream",
     "text": [
      "A\n",
      " [[ 4.855 -4.     1.     0.   ]\n",
      " [-4.     5.855 -4.     1.   ]\n",
      " [ 1.    -4.     5.855 -4.   ]\n",
      " [ 0.     1.    -4.     4.855]] \n",
      "\n",
      "d\t [-1.59  1.    1.   -1.64]\n",
      "\n",
      "d*\t [-1.59       -0.3099897   0.94281759  0.00442509] \n",
      "\n",
      "A*\n",
      "[ 4.855 -4.     1.     0.   ]\n",
      "[ 0.          2.55942842 -3.17610711  1.        ]\n",
      "[ 0.          0.          1.70765602 -2.75905609]\n",
      "[ 0.00000000e+00  0.00000000e+00 -4.44089210e-16  6.48686833e-03]\n",
      "\n",
      "\n",
      "x\t [0.70373021 1.66522245 1.65427963 0.68216191]\n"
     ]
    }
   ],
   "source": [
    "nx = 4\n",
    "ny = 4\n",
    "x = np.zeros(nx)\n",
    "a = np.zeros((nx,ny))\n",
    "a = [[4.855, -4, 1, 0],\n",
    "    [-4, 5.855, -4, 1],\n",
    "    [1, -4, 5.855, -4],\n",
    "    [0, 1, -4, 4.855]]\n",
    "d = np.array([-1.59, 1, 1, -1.64])\n",
    "ae = np.zeros((nx, ny))\n",
    "\n",
    "ae[:,:] = a[:][:]\n",
    "print('A\\n',ae,'\\n\\nd\\t',d)\n",
    "\n",
    "for n in range(ny):\n",
    "    for i in range(n,nx-1):\n",
    "        b = ae[i+1][n]\n",
    "        c = ae[n][n]\n",
    "        #print(b,c)\n",
    "        d[i+1] = d[i+1] + (-b * d[n]) / c\n",
    "        ae[i+1,:] = ae[i+1,:] + (-b * ae[n,:]) / c \n",
    "        \n",
    "print('\\nd*\\t',d,'\\n\\nA*')\n",
    "for i in range(ny):print(ae[i])\n",
    "\n",
    "i = nx-1\n",
    "while i>= 0:\n",
    "    x[i] = (d[i] - np.sum(ae[i,:] * x[:])) / ae[i][i]\n",
    "    i-=1\n",
    "print('\\n\\nx\\t',x) "
   ]
  },
  {
   "cell_type": "code",
   "execution_count": null,
   "id": "48e97979",
   "metadata": {},
   "outputs": [],
   "source": []
  }
 ],
 "metadata": {
  "kernelspec": {
   "display_name": "Python 3 (ipykernel)",
   "language": "python",
   "name": "python3"
  },
  "language_info": {
   "codemirror_mode": {
    "name": "ipython",
    "version": 3
   },
   "file_extension": ".py",
   "mimetype": "text/x-python",
   "name": "python",
   "nbconvert_exporter": "python",
   "pygments_lexer": "ipython3",
   "version": "3.8.12"
  }
 },
 "nbformat": 4,
 "nbformat_minor": 5
}
